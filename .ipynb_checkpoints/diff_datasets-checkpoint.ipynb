{
 "cells": [
  {
   "cell_type": "code",
   "id": "initial_id",
   "metadata": {
    "collapsed": true,
    "ExecuteTime": {
     "end_time": "2024-10-10T17:57:17.356220Z",
     "start_time": "2024-10-10T17:57:16.162158Z"
    }
   },
   "source": [
    "from dataprep.datasets import load_dataset\n",
    "import numpy as np\n",
    "df1 = load_dataset(\"house_prices_train\")\n",
    "df1 = df1.replace(\" ?\", np.NaN)\n",
    "df2 = load_dataset(\"house_prices_test\")\n",
    "df2 = df2.replace(\" ?\", np.NaN)"
   ],
   "outputs": [],
   "execution_count": 1
  },
  {
   "metadata": {
    "jupyter": {
     "is_executing": true
    }
   },
   "cell_type": "code",
   "source": [
    "from dataprep.eda import plot_diff\n",
    "plot_diff([df1, df2])"
   ],
   "id": "2e56cb158e9e6af3",
   "outputs": [],
   "execution_count": null
  },
  {
   "metadata": {},
   "cell_type": "code",
   "outputs": [],
   "execution_count": null,
   "source": "",
   "id": "110b69788356e664"
  }
 ],
 "metadata": {
  "kernelspec": {
   "display_name": "Python 3",
   "language": "python",
   "name": "python3"
  },
  "language_info": {
   "codemirror_mode": {
    "name": "ipython",
    "version": 2
   },
   "file_extension": ".py",
   "mimetype": "text/x-python",
   "name": "python",
   "nbconvert_exporter": "python",
   "pygments_lexer": "ipython2",
   "version": "2.7.6"
  }
 },
 "nbformat": 4,
 "nbformat_minor": 5
}
